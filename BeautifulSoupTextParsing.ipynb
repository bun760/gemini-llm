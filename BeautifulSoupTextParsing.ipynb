{
  "nbformat": 4,
  "nbformat_minor": 0,
  "metadata": {
    "colab": {
      "provenance": [],
      "authorship_tag": "ABX9TyMSCgmjBgKzfjXg5+EamgOx",
      "include_colab_link": true
    },
    "kernelspec": {
      "name": "python3",
      "display_name": "Python 3"
    },
    "language_info": {
      "name": "python"
    }
  },
  "cells": [
    {
      "cell_type": "markdown",
      "metadata": {
        "id": "view-in-github",
        "colab_type": "text"
      },
      "source": [
        "<a href=\"https://colab.research.google.com/github/bun760/gemini-llm/blob/main/BeautifulSoupTextParsing.ipynb\" target=\"_parent\"><img src=\"https://colab.research.google.com/assets/colab-badge.svg\" alt=\"Open In Colab\"/></a>"
      ]
    },
    {
      "cell_type": "code",
      "execution_count": 1,
      "metadata": {
        "id": "ekhr227ggGUp"
      },
      "outputs": [],
      "source": [
        "def preprocess(text):\n",
        "    soup = BeautifulSoup(text, \"html.parser\")\n",
        "    for code in soup.find_all(['code', 'pre']):\n",
        "        code.decompose()\n",
        "    text = soup.get_text()\n",
        "\n",
        "    # Unescape HTML entities (e.g. &lt; becomes <)\n",
        "    text = html.unescape(text)\n",
        "\n",
        "    # Remove URLs\n",
        "    text = re.sub(r'http\\S+|www\\S+', '', text)\n",
        "\n",
        "    # Lowercase and strip\n",
        "    text = text.lower().strip()\n",
        "\n",
        "    # Remove punctuation and tokenize\n",
        "    regex = re.compile('[%s]' % re.escape(punct))\n",
        "    tokens = token.tokenize(text)\n",
        "    processed = []\n",
        "    for w in tokens:\n",
        "        if w in tags_used:\n",
        "            processed.append(w)\n",
        "        else:\n",
        "            w = regex.sub('', w)\n",
        "            if w and w not in stop_words:\n",
        "                lemma_word = lemma.lemmatize(w, pos='v')\n",
        "                processed.append(lemma_word)\n",
        "\n",
        "    return ' '.join(processed)\n"
      ]
    }
  ]
}